{
  "metadata": {
    "kernelspec": {
      "language": "python",
      "display_name": "Python 3",
      "name": "python3"
    },
    "language_info": {
      "name": "python",
      "version": "3.7.12",
      "mimetype": "text/x-python",
      "codemirror_mode": {
        "name": "ipython",
        "version": 3
      },
      "pygments_lexer": "ipython3",
      "nbconvert_exporter": "python",
      "file_extension": ".py"
    },
    "colab": {
      "provenance": []
    }
  },
  "nbformat_minor": 0,
  "nbformat": 4,
  "cells": [
    {
      "cell_type": "markdown",
      "source": [
        "------------------\n",
        " ## Suicide Sentiment Analysis Project \n",
        " - Using TF-IDF As Feature Extraction\n",
        " - Using Some Classification models As RandomForest, LinearSVC\n",
        " - Using Some Preprocessing as Lemmatization, Removing Stop Words\n",
        " - Finally,  The best Results in this notebook is 93%.\n",
        "----------------"
      ],
      "metadata": {
        "id": "7LIy-DS-ULBj"
      }
    },
    {
      "cell_type": "code",
      "source": [
        "import pandas as pd\n",
        "import numpy as np \n",
        "from tabulate import tabulate\n",
        "from sklearn.feature_extraction.text import TfidfVectorizer\n",
        "from sklearn.feature_extraction.text import CountVectorizer\n",
        "from sklearn.feature_extraction.text import TfidfTransformer\n",
        "from sklearn import metrics\n",
        "import nltk\n",
        "import re\n",
        "import string\n",
        "nltk.download('wordnet')\n",
        "nltk.download('omw-1.4')\n",
        "from nltk.stem import WordNetLemmatizer\n",
        "from sklearn.model_selection import train_test_split\n",
        "from sklearn.ensemble import RandomForestClassifier\n",
        "from sklearn.metrics import accuracy_score, recall_score\n",
        "from sklearn.preprocessing import MinMaxScaler\n",
        "from sklearn.naive_bayes import MultinomialNB\n",
        "from sklearn.svm import SVC\n",
        "from sklearn.svm import LinearSVC\n",
        "from sklearn import metrics\n",
        "nltk.download('vader_lexicon')\n",
        "import warnings\n",
        "warnings.filterwarnings('ignore')"
      ],
      "metadata": {
        "execution": {
          "iopub.status.busy": "2022-06-16T18:35:33.017716Z",
          "iopub.execute_input": "2022-06-16T18:35:33.018105Z",
          "iopub.status.idle": "2022-06-16T18:35:34.491430Z",
          "shell.execute_reply.started": "2022-06-16T18:35:33.018071Z",
          "shell.execute_reply": "2022-06-16T18:35:34.490541Z"
        },
        "trusted": true,
        "colab": {
          "base_uri": "https://localhost:8080/"
        },
        "id": "adjMLfeYULBl",
        "outputId": "98fbfec0-0554-48b4-8c77-640fde64a2d8"
      },
      "execution_count": null,
      "outputs": [
        {
          "output_type": "stream",
          "name": "stderr",
          "text": [
            "[nltk_data] Downloading package wordnet to /root/nltk_data...\n",
            "[nltk_data]   Package wordnet is already up-to-date!\n",
            "[nltk_data] Downloading package omw-1.4 to /root/nltk_data...\n",
            "[nltk_data] Downloading package vader_lexicon to /root/nltk_data...\n",
            "[nltk_data]   Package vader_lexicon is already up-to-date!\n"
          ]
        }
      ]
    },
    {
      "cell_type": "code",
      "source": [
        "from google.colab import drive\n",
        "drive.mount('/content/drive')"
      ],
      "metadata": {
        "colab": {
          "base_uri": "https://localhost:8080/"
        },
        "id": "S-Ga6Xe8UQBx",
        "outputId": "4ac236a0-9875-447d-edd8-9d9d2a3da32c"
      },
      "execution_count": null,
      "outputs": [
        {
          "output_type": "stream",
          "name": "stdout",
          "text": [
            "Mounted at /content/drive\n"
          ]
        }
      ]
    },
    {
      "cell_type": "markdown",
      "source": [
        "## Read Suicide_Detection File"
      ],
      "metadata": {
        "id": "z0YbcocGULBm"
      }
    },
    {
      "cell_type": "code",
      "source": [
        "Suicide = pd.read_csv('/content/drive/MyDrive/1125pjt/data/Suicide_Detection.csv')\n",
        "data_split = np.array_split(Suicide, 3)\n",
        "Suicide = data_split[0]\n",
        "Suicide = Suicide.drop('Unnamed: 0',axis=1)"
      ],
      "metadata": {
        "execution": {
          "iopub.status.busy": "2022-06-16T18:35:34.495137Z",
          "iopub.execute_input": "2022-06-16T18:35:34.495595Z",
          "iopub.status.idle": "2022-06-16T18:35:39.621881Z",
          "shell.execute_reply.started": "2022-06-16T18:35:34.495562Z",
          "shell.execute_reply": "2022-06-16T18:35:39.620965Z"
        },
        "trusted": true,
        "id": "uvj9FojMULBm"
      },
      "execution_count": null,
      "outputs": []
    },
    {
      "cell_type": "code",
      "source": [
        "Suicide['class'].value_counts()"
      ],
      "metadata": {
        "colab": {
          "base_uri": "https://localhost:8080/"
        },
        "id": "FoKHmVVMUc1T",
        "outputId": "b4c88892-ebac-4ee6-9208-12836a5d946a"
      },
      "execution_count": null,
      "outputs": [
        {
          "output_type": "execute_result",
          "data": {
            "text/plain": [
              "non-suicide    38713\n",
              "suicide        38645\n",
              "Name: class, dtype: int64"
            ]
          },
          "metadata": {},
          "execution_count": 4
        }
      ]
    },
    {
      "cell_type": "markdown",
      "source": [
        "## Preparing For Stopword removal and lemmatization"
      ],
      "metadata": {
        "id": "XLSyxxy_ULBm"
      }
    },
    {
      "cell_type": "code",
      "source": [
        "nltk.download('stopwords')\n",
        "stopwords = nltk.corpus.stopwords.words('english')\n",
        "lemmatizer = WordNetLemmatizer()"
      ],
      "metadata": {
        "execution": {
          "iopub.status.busy": "2022-06-16T18:35:39.622915Z",
          "iopub.execute_input": "2022-06-16T18:35:39.623223Z",
          "iopub.status.idle": "2022-06-16T18:35:39.637972Z",
          "shell.execute_reply.started": "2022-06-16T18:35:39.623196Z",
          "shell.execute_reply": "2022-06-16T18:35:39.636650Z"
        },
        "trusted": true,
        "colab": {
          "base_uri": "https://localhost:8080/"
        },
        "id": "Ws5-shdGULBm",
        "outputId": "eeb63132-ce1b-4986-8c13-b61d94e736df"
      },
      "execution_count": null,
      "outputs": [
        {
          "output_type": "stream",
          "name": "stderr",
          "text": [
            "[nltk_data] Downloading package stopwords to /root/nltk_data...\n",
            "[nltk_data]   Unzipping corpora/stopwords.zip.\n"
          ]
        }
      ]
    },
    {
      "cell_type": "code",
      "source": [
        "X = Suicide.drop('class', axis=1)\n",
        "y = Suicide['class']\n"
      ],
      "metadata": {
        "execution": {
          "iopub.status.busy": "2022-06-16T18:35:39.640654Z",
          "iopub.execute_input": "2022-06-16T18:35:39.641274Z",
          "iopub.status.idle": "2022-06-16T18:35:39.665858Z",
          "shell.execute_reply.started": "2022-06-16T18:35:39.641225Z",
          "shell.execute_reply": "2022-06-16T18:35:39.664532Z"
        },
        "trusted": true,
        "id": "U4ZoWQQcULBm"
      },
      "execution_count": null,
      "outputs": []
    },
    {
      "cell_type": "markdown",
      "source": [
        "# Text Pre Proceessing"
      ],
      "metadata": {
        "id": "vlqiSDthULBm"
      }
    },
    {
      "cell_type": "code",
      "source": [
        "# To remove emails\n",
        "email_regex = r'([a-zA-Z0-9_.+-]+@[a-zA-Z0-9-]+\\.[a-zA-Z0-9-.]+)'\n",
        "regexes_to_remove = [email_regex, r'Subject:', r'Re:']\n",
        "\n",
        "for i in range(0, len(X)):\n",
        "    # removing all special charachter\n",
        "    review = re.sub('[^a-zA-Z]', ' ', str(X['text'][i]))\n",
        "    # make document as lowerCase\n",
        "    review = review.lower()\n",
        "    # splitting the documents into words for ex ['iam', 'omar']\n",
        "    review = review.split()\n",
        "    # make limmatization --> (change, changing, changes)---> (change)\n",
        "    review = [lemmatizer.lemmatize(word) for word in review if not word in set(stopwords)]\n",
        "    # join the document agian\n",
        "    review = ' '.join(review)\n",
        "    \n",
        "    # removing mails\n",
        "    for r in regexes_to_remove:\n",
        "        X['text'][i] = re.sub(r, '', review)\n"
      ],
      "metadata": {
        "execution": {
          "iopub.status.busy": "2022-06-16T18:35:39.667386Z",
          "iopub.execute_input": "2022-06-16T18:35:39.667854Z",
          "iopub.status.idle": "2022-06-16T18:39:27.066871Z",
          "shell.execute_reply.started": "2022-06-16T18:35:39.667820Z",
          "shell.execute_reply": "2022-06-16T18:39:27.065796Z"
        },
        "trusted": true,
        "id": "i09ekEYVULBm"
      },
      "execution_count": null,
      "outputs": []
    },
    {
      "cell_type": "markdown",
      "source": [
        "## Data Splitting "
      ],
      "metadata": {
        "id": "_oSo232XULBm"
      }
    },
    {
      "cell_type": "code",
      "source": [
        "X_train, X_test, y_train, y_test = train_test_split(X, y, test_size=0.3)"
      ],
      "metadata": {
        "execution": {
          "iopub.status.busy": "2022-06-16T18:39:27.068105Z",
          "iopub.execute_input": "2022-06-16T18:39:27.068460Z",
          "iopub.status.idle": "2022-06-16T18:39:27.087652Z",
          "shell.execute_reply.started": "2022-06-16T18:39:27.068429Z",
          "shell.execute_reply": "2022-06-16T18:39:27.086912Z"
        },
        "trusted": true,
        "id": "qaIVAVRdULBn"
      },
      "execution_count": null,
      "outputs": []
    },
    {
      "cell_type": "markdown",
      "source": [
        "## Feature extraction"
      ],
      "metadata": {
        "id": "pMz-0hGyULBn"
      }
    },
    {
      "cell_type": "markdown",
      "source": [
        "- ### TF-IDF"
      ],
      "metadata": {
        "id": "IaCj1qEcULBn"
      }
    },
    {
      "cell_type": "code",
      "source": [
        "tfidf_vectorizer = TfidfVectorizer(max_features=10000)\n",
        "tfidf_vectorizer_n12 = TfidfVectorizer(max_features=10000, ngram_range=(1,2))\n",
        "\n",
        "\n",
        "X_tfidf_train = tfidf_vectorizer.fit_transform(X_train['text'])\n",
        "X_tfidf_test = tfidf_vectorizer.transform(X_test['text'])\n",
        "\n",
        "X_tfidf_train_n12= tfidf_vectorizer_n12.fit_transform(X_train['text'])\n",
        "X_tfidf_test_n12=tfidf_vectorizer_n12.transform(X_test['text'])"
      ],
      "metadata": {
        "execution": {
          "iopub.status.busy": "2022-06-16T18:39:27.088832Z",
          "iopub.execute_input": "2022-06-16T18:39:27.089549Z",
          "iopub.status.idle": "2022-06-16T18:39:51.600299Z",
          "shell.execute_reply.started": "2022-06-16T18:39:27.089515Z",
          "shell.execute_reply": "2022-06-16T18:39:51.599151Z"
        },
        "trusted": true,
        "id": "5gBiERH2ULBn"
      },
      "execution_count": null,
      "outputs": []
    },
    {
      "cell_type": "markdown",
      "source": [
        " - ### Bag of wards "
      ],
      "metadata": {
        "id": "QAspb_xhULBn"
      }
    },
    {
      "cell_type": "code",
      "source": [
        "vectorizer = CountVectorizer()\n",
        "  \n",
        "X_bow_train = vectorizer.fit_transform(X_train['text'])\n",
        "X_bow_test = vectorizer.transform(X_test['text'])\n"
      ],
      "metadata": {
        "execution": {
          "iopub.status.busy": "2022-06-16T18:39:51.601352Z",
          "iopub.execute_input": "2022-06-16T18:39:51.601652Z",
          "iopub.status.idle": "2022-06-16T18:39:57.306604Z",
          "shell.execute_reply.started": "2022-06-16T18:39:51.601625Z",
          "shell.execute_reply": "2022-06-16T18:39:57.305625Z"
        },
        "trusted": true,
        "id": "igzLKzjAULBn"
      },
      "execution_count": null,
      "outputs": []
    },
    {
      "cell_type": "markdown",
      "source": [
        "- ### VADER\n"
      ],
      "metadata": {
        "id": "9LhxAF9mULBn"
      }
    },
    {
      "cell_type": "code",
      "source": [
        "from nltk.sentiment.vader import SentimentIntensityAnalyzer as SIA\n",
        "def get_vader_scores(data):\n",
        "    sid=SIA()\n",
        "    vader_df=data.copy()\n",
        "    vader_df['scores'] = vader_df['text'].apply(lambda txt: sid.polarity_scores(str(txt)))\n",
        "    \n",
        "    vader_df['neg_score'] = vader_df['scores'].apply(lambda txt: txt['neg'])\n",
        "    vader_df['neu_score'] =vader_df['scores'].apply(lambda txt: txt['neu'])\n",
        "    vader_df['pos_score'] = vader_df['scores'].apply(lambda txt: txt['pos'])\n",
        "    vader_df['compound'] = vader_df['scores'].apply(lambda txt: txt['compound'])\n",
        "    vader_df.drop('scores', axis=1, inplace=True)\n",
        "    vader_df.drop('text', axis=1, inplace=True)\n",
        "    return vader_df\n"
      ],
      "metadata": {
        "execution": {
          "iopub.status.busy": "2022-06-16T18:39:57.307827Z",
          "iopub.execute_input": "2022-06-16T18:39:57.308231Z",
          "iopub.status.idle": "2022-06-16T18:39:57.328113Z",
          "shell.execute_reply.started": "2022-06-16T18:39:57.308197Z",
          "shell.execute_reply": "2022-06-16T18:39:57.327126Z"
        },
        "trusted": true,
        "id": "DKuxakQuULBn"
      },
      "execution_count": null,
      "outputs": []
    },
    {
      "cell_type": "code",
      "source": [
        "X_vader_train = get_vader_scores(X_train)\n",
        "X_vader_test= get_vader_scores(X_test)"
      ],
      "metadata": {
        "execution": {
          "iopub.status.busy": "2022-06-16T18:39:57.331009Z",
          "iopub.execute_input": "2022-06-16T18:39:57.331453Z",
          "iopub.status.idle": "2022-06-16T18:41:16.801745Z",
          "shell.execute_reply.started": "2022-06-16T18:39:57.331418Z",
          "shell.execute_reply": "2022-06-16T18:41:16.800703Z"
        },
        "trusted": true,
        "id": "OM1fVB--ULBo"
      },
      "execution_count": null,
      "outputs": []
    },
    {
      "cell_type": "markdown",
      "source": [
        "## Feature Selection"
      ],
      "metadata": {
        "id": "ZxEf_0mQULBo"
      }
    },
    {
      "cell_type": "code",
      "source": [
        "from sklearn.svm import LinearSVC\n",
        "from sklearn.feature_selection import SelectFromModel\n",
        "\n",
        "# We Can select any model but linearSVC has l1 norm penality which deals with sparse\n",
        "lsvc = LinearSVC(C=100, penalty='l1', max_iter=500, dual=False)\n",
        "lsvc.fit(X_tfidf_train, y_train)\n",
        "\n",
        "# This function select the best features that has high weigh\n",
        "fs = SelectFromModel(lsvc, prefit=True)\n",
        "# This function redeuce X to the selected features\n",
        "X_selection = fs.transform(X_tfidf_train)\n",
        "X_test_selection = fs.transform(X_tfidf_test)\n",
        "\n",
        "\n",
        "lsvc.fit(X_tfidf_train_n12, y_train)\n",
        "fs_n12 = SelectFromModel(lsvc, prefit=True)\n",
        "X_selection_n12 = fs_n12.transform(X_tfidf_train_n12)\n",
        "X_test_selection_n12 = fs_n12.transform(X_tfidf_test_n12)\n",
        "\n",
        "#lsvc.fit(X_bow_train, y_train)\n",
        "#fs_n12 = SelectFromModel(lsvc, prefit=True)\n",
        "#X_selection_bow = fs_n12.transform(X_bow_train)\n",
        "#X_test_selection_bow = fs_n12.transform(X_bow_test)\n"
      ],
      "metadata": {
        "execution": {
          "iopub.status.busy": "2022-06-16T18:41:16.803101Z",
          "iopub.execute_input": "2022-06-16T18:41:16.803972Z",
          "iopub.status.idle": "2022-06-16T18:41:54.080364Z",
          "shell.execute_reply.started": "2022-06-16T18:41:16.803909Z",
          "shell.execute_reply": "2022-06-16T18:41:54.079383Z"
        },
        "trusted": true,
        "id": "QuFz_na4ULBo"
      },
      "execution_count": null,
      "outputs": []
    },
    {
      "cell_type": "markdown",
      "source": [
        "### plotting results function "
      ],
      "metadata": {
        "id": "KEukqp6YULBo"
      }
    },
    {
      "cell_type": "code",
      "source": [
        "import matplotlib.pyplot as plt\n",
        "def plot_results(data):\n",
        "    \n",
        "    barWidth = 0.15\n",
        "    # set heights of bars\n",
        "\n",
        "    bars1 = [data[0][1],data[1][1], data[2][1]]\n",
        "    bars2 = [data[0][2], data[1][2], data[2][2]]\n",
        "    bars3 = [data[0][3], data[1][3], data[2][3]]\n",
        "    bars4 = [data[0][4], data[1][4], data[2][4]]\n",
        "    \n",
        "\n",
        "    # Set position of bar on X axis\n",
        "    r1 = np.arange(len(bars1))\n",
        "    r2 = [x + barWidth for x in r1]\n",
        "    r3 = [x + barWidth for x in r2]\n",
        "    r4 = [x + barWidth for x in r3]\n",
        "    \n",
        "\n",
        "    # Make the plot\n",
        "    plt.bar(r1, bars1, color='r', width=barWidth, edgecolor='white', label='tfidf')\n",
        "    plt.bar(r2, bars2, color='b', width=barWidth, edgecolor='white', label='tfidf_n12')\n",
        "    plt.bar(r3, bars3, color='#2d7f5e', width=barWidth, edgecolor='white', label='bow')\n",
        "    plt.bar(r4, bars4, color='#9a7f5e', width=barWidth, edgecolor='white', label='vader')\n",
        "    \n",
        "\n",
        "    # Add xticks on the middle of the group bars\n",
        "    plt.xlabel('group', fontweight='bold')\n",
        "    plt.xticks([r + barWidth for r in range(len(bars1))], ['precision', 'recall', 'f1-score'])\n",
        "\n",
        "    # Create legend & Show graphic\n",
        "    plt.legend()\n",
        "    plt.grid()\n",
        "    plt.show()"
      ],
      "metadata": {
        "execution": {
          "iopub.status.busy": "2022-06-16T18:41:54.081810Z",
          "iopub.execute_input": "2022-06-16T18:41:54.082551Z",
          "iopub.status.idle": "2022-06-16T18:41:54.096130Z",
          "shell.execute_reply.started": "2022-06-16T18:41:54.082516Z",
          "shell.execute_reply": "2022-06-16T18:41:54.094966Z"
        },
        "trusted": true,
        "id": "LPjKfsE3ULBo"
      },
      "execution_count": null,
      "outputs": []
    },
    {
      "cell_type": "markdown",
      "source": [
        "##  Using LinearSVC"
      ],
      "metadata": {
        "id": "V06KMylsULBo"
      }
    },
    {
      "cell_type": "code",
      "source": [
        "lsvc = LinearSVC(C=1000, penalty='l1', max_iter=500, dual=False)\n",
        "lsvc.fit(X_selection, y_train)\n",
        "y_predict_tfidf = lsvc.predict(X_test_selection)\n",
        "\n",
        "lsvc.fit(X_selection_n12,y_train)\n",
        "y_predict_tfidf_n12 = lsvc.predict(X_test_selection_n12)\n",
        "\n",
        "lsvc.fit(X_selection_bow,y_train)\n",
        "y_predict_bow = lsvc.predict(X_test_selection_bow)\n",
        "\n",
        "lsvc.fit(X_vader_train,y_train)\n",
        "y_predict_vader = lsvc.predict(X_vader_test)\n",
        "\n",
        "linear_svm_tfidf_results=metrics.precision_recall_fscore_support(y_test, y_predict_tfidf)\n",
        "linear_svm_tfidf_n12_results=metrics.precision_recall_fscore_support(y_test, y_predict_tfidf_n12)\n",
        "linear_svm_bow_results=metrics.precision_recall_fscore_support(y_test, y_predict_bow)\n",
        "vader_svm_results=metrics.precision_recall_fscore_support(y_test, y_predict_vader)"
      ],
      "metadata": {
        "execution": {
          "iopub.status.busy": "2022-06-16T18:41:54.097401Z",
          "iopub.execute_input": "2022-06-16T18:41:54.097933Z",
          "iopub.status.idle": "2022-06-16T18:42:30.664059Z",
          "shell.execute_reply.started": "2022-06-16T18:41:54.097892Z",
          "shell.execute_reply": "2022-06-16T18:42:30.663123Z"
        },
        "trusted": true,
        "id": "fnRy9QUqULBo"
      },
      "execution_count": null,
      "outputs": []
    },
    {
      "cell_type": "code",
      "source": [
        "tfidf_acc= metrics.accuracy_score(y_test, y_predict_tfidf)\n",
        "tfidf_n12_acc=accuracy_score(y_test, y_predict_tfidf_n12)\n",
        "bow_acc= accuracy_score(y_test, y_predict_bow)\n",
        "vader_acc=accuracy_score(y_test, y_predict_vader)"
      ],
      "metadata": {
        "execution": {
          "iopub.status.busy": "2022-06-16T18:42:30.665497Z",
          "iopub.execute_input": "2022-06-16T18:42:30.666113Z",
          "iopub.status.idle": "2022-06-16T18:42:31.000733Z",
          "shell.execute_reply.started": "2022-06-16T18:42:30.666066Z",
          "shell.execute_reply": "2022-06-16T18:42:30.999515Z"
        },
        "trusted": true,
        "id": "lXYZbyrsULBo"
      },
      "execution_count": null,
      "outputs": []
    },
    {
      "cell_type": "code",
      "source": [
        "data1 = [['TF-IDF','TF-IDF 2-grams ','bag of words','vader'],\n",
        "         ['precision',linear_svm_tfidf_results[0][0],linear_svm_tfidf_n12_results[0][0],linear_svm_bow_results[0][0],\n",
        "          vader_svm_results[0][0]],\n",
        "         ['recall',linear_svm_tfidf_results[1][0],linear_svm_tfidf_n12_results[1][0],linear_svm_bow_results[1][0],\n",
        "          vader_svm_results[1][0]],\n",
        "         ['F1-score',linear_svm_tfidf_results[2][0],linear_svm_tfidf_n12_results[2][0],linear_svm_bow_results[2][0],\n",
        "          vader_svm_results[2][0]],\n",
        "        ['accuracy',tfidf_acc,tfidf_n12_acc,bow_acc,\n",
        "          vader_acc]]"
      ],
      "metadata": {
        "execution": {
          "iopub.status.busy": "2022-06-16T18:42:31.002006Z",
          "iopub.execute_input": "2022-06-16T18:42:31.002360Z",
          "iopub.status.idle": "2022-06-16T18:42:31.010135Z",
          "shell.execute_reply.started": "2022-06-16T18:42:31.002328Z",
          "shell.execute_reply": "2022-06-16T18:42:31.008908Z"
        },
        "trusted": true,
        "id": "FDj4ZBB5ULBo"
      },
      "execution_count": null,
      "outputs": []
    },
    {
      "cell_type": "code",
      "source": [
        "print(tabulate(data1,headers='firstrow',tablefmt='fancy_grid'))"
      ],
      "metadata": {
        "execution": {
          "iopub.status.busy": "2022-06-16T18:42:31.011271Z",
          "iopub.execute_input": "2022-06-16T18:42:31.011982Z",
          "iopub.status.idle": "2022-06-16T18:42:31.025465Z",
          "shell.execute_reply.started": "2022-06-16T18:42:31.011938Z",
          "shell.execute_reply": "2022-06-16T18:42:31.024603Z"
        },
        "trusted": true,
        "id": "GoXjuU7UULBo",
        "outputId": "491dc813-5d8e-4281-cf2c-4bc5318de2f3"
      },
      "execution_count": null,
      "outputs": [
        {
          "name": "stdout",
          "text": "╒═══════════╤══════════╤═══════════════════╤════════════════╤══════════╕\n│           │   TF-IDF │   TF-IDF 2-grams  │   bag of words │    vader │\n╞═══════════╪══════════╪═══════════════════╪════════════════╪══════════╡\n│ precision │ 0.866338 │          0.863772 │       0.862199 │ 0.693714 │\n├───────────┼──────────┼───────────────────┼────────────────┼──────────┤\n│ recall    │ 0.858539 │          0.840964 │       0.879201 │ 0.696331 │\n├───────────┼──────────┼───────────────────┼────────────────┼──────────┤\n│ F1-score  │ 0.862421 │          0.852215 │       0.870617 │ 0.69502  │\n├───────────┼──────────┼───────────────────┼────────────────┼──────────┤\n│ accuracy  │ 0.862332 │          0.853413 │       0.868666 │ 0.692865 │\n╘═══════════╧══════════╧═══════════════════╧════════════════╧══════════╛\n",
          "output_type": "stream"
        }
      ]
    },
    {
      "cell_type": "code",
      "source": [
        "plot_results(data1[1:])"
      ],
      "metadata": {
        "execution": {
          "iopub.status.busy": "2022-06-16T18:42:31.028308Z",
          "iopub.execute_input": "2022-06-16T18:42:31.029259Z",
          "iopub.status.idle": "2022-06-16T18:42:31.286584Z",
          "shell.execute_reply.started": "2022-06-16T18:42:31.029218Z",
          "shell.execute_reply": "2022-06-16T18:42:31.285622Z"
        },
        "trusted": true,
        "id": "UjglmifCULBp",
        "outputId": "24c45b84-858b-4435-e64d-64367e319274"
      },
      "execution_count": null,
      "outputs": [
        {
          "output_type": "display_data",
          "data": {
            "text/plain": "<Figure size 432x288 with 1 Axes>",
            "image/png": "[encoded data removed]"
          },
          "metadata": {
            "needs_background": "light"
          }
        }
      ]
    },
    {
      "cell_type": "markdown",
      "source": [
        "## Using RandomForest"
      ],
      "metadata": {
        "id": "d7LWb7yCULBp"
      }
    },
    {
      "cell_type": "code",
      "source": [
        "clf = RandomForestClassifier(max_depth=10)\n",
        "clf.fit(X_selection, y_train)\n",
        "y_predict_tfidf_2 = clf.predict(X_test_selection)\n",
        "\n",
        "clf.fit(X_selection_n12, y_train)\n",
        "y_predict_tfidf_n12_2 = clf.predict(X_test_selection_n12)\n",
        "\n",
        "clf.fit(X_selection_bow, y_train)\n",
        "y_predict_bow_2 = clf.predict(X_test_selection_bow)\n",
        "\n",
        "clf.fit(X_vader_train, y_train)\n",
        "y_predict_vader_2 = clf.predict(X_vader_test)"
      ],
      "metadata": {
        "execution": {
          "iopub.status.busy": "2022-06-16T18:42:31.287743Z",
          "iopub.execute_input": "2022-06-16T18:42:31.288078Z",
          "iopub.status.idle": "2022-06-16T18:42:52.853463Z",
          "shell.execute_reply.started": "2022-06-16T18:42:31.288047Z",
          "shell.execute_reply": "2022-06-16T18:42:52.852443Z"
        },
        "trusted": true,
        "id": "jwqpyBDwULBp"
      },
      "execution_count": null,
      "outputs": []
    },
    {
      "cell_type": "code",
      "source": [
        "RandomForest_tfidf_results=metrics.precision_recall_fscore_support(y_test, y_predict_tfidf_2)\n",
        "RandomForest_tfidf_n12_results=metrics.precision_recall_fscore_support(y_test, y_predict_tfidf_n12_2)\n",
        "RandomForest_bow_results=metrics.precision_recall_fscore_support(y_test, y_predict_bow_2)\n",
        "RandomForest_vader_results=metrics.precision_recall_fscore_support(y_test, y_predict_vader_2)"
      ],
      "metadata": {
        "execution": {
          "iopub.status.busy": "2022-06-16T18:42:52.854811Z",
          "iopub.execute_input": "2022-06-16T18:42:52.855264Z",
          "iopub.status.idle": "2022-06-16T18:42:54.184763Z",
          "shell.execute_reply.started": "2022-06-16T18:42:52.855220Z",
          "shell.execute_reply": "2022-06-16T18:42:54.183586Z"
        },
        "trusted": true,
        "id": "JHPW2U4-ULBp"
      },
      "execution_count": null,
      "outputs": []
    },
    {
      "cell_type": "code",
      "source": [
        "RandomForest_tfidf_acc= metrics.accuracy_score(y_test, y_predict_tfidf_2)\n",
        "RandomForest_tfidf_n12_acc=accuracy_score(y_test, y_predict_tfidf_n12_2)\n",
        "RandomForest_bow_acc= accuracy_score(y_test, y_predict_bow_2)\n",
        "RandomForest_vader_acc=accuracy_score(y_test, y_predict_vader_2)"
      ],
      "metadata": {
        "execution": {
          "iopub.status.busy": "2022-06-16T18:42:54.186699Z",
          "iopub.execute_input": "2022-06-16T18:42:54.188676Z",
          "iopub.status.idle": "2022-06-16T18:42:54.523110Z",
          "shell.execute_reply.started": "2022-06-16T18:42:54.188620Z",
          "shell.execute_reply": "2022-06-16T18:42:54.522071Z"
        },
        "trusted": true,
        "id": "FN7WVB6zULBp"
      },
      "execution_count": null,
      "outputs": []
    },
    {
      "cell_type": "code",
      "source": [
        "data2 = [['TF-IDF','TF-IDF 2-grams ','bag of words','vader'],\n",
        "         ['precision',RandomForest_tfidf_results[0][0],RandomForest_tfidf_n12_results[0][0],RandomForest_bow_results[0][0],\n",
        "          RandomForest_vader_results[0][0]],\n",
        "         ['recall',RandomForest_tfidf_results[1][0],RandomForest_tfidf_n12_results[1][0],RandomForest_bow_results[1][0],\n",
        "          RandomForest_vader_results[1][0]],\n",
        "         ['F1-score',RandomForest_tfidf_results[2][0],RandomForest_tfidf_n12_results[2][0],RandomForest_bow_results[2][0],\n",
        "          RandomForest_vader_results[2][0]],\n",
        "        ['accuracy',RandomForest_tfidf_acc,RandomForest_tfidf_n12_acc, RandomForest_bow_acc,\n",
        "          RandomForest_vader_acc]]"
      ],
      "metadata": {
        "execution": {
          "iopub.status.busy": "2022-06-16T18:42:54.524407Z",
          "iopub.execute_input": "2022-06-16T18:42:54.524910Z",
          "iopub.status.idle": "2022-06-16T18:42:54.532799Z",
          "shell.execute_reply.started": "2022-06-16T18:42:54.524872Z",
          "shell.execute_reply": "2022-06-16T18:42:54.531736Z"
        },
        "trusted": true,
        "id": "GPTS0D52ULBp"
      },
      "execution_count": null,
      "outputs": []
    },
    {
      "cell_type": "code",
      "source": [
        "print(tabulate(data2,headers='firstrow',tablefmt='fancy_grid'))"
      ],
      "metadata": {
        "execution": {
          "iopub.status.busy": "2022-06-16T18:42:54.534352Z",
          "iopub.execute_input": "2022-06-16T18:42:54.534906Z",
          "iopub.status.idle": "2022-06-16T18:42:54.552097Z",
          "shell.execute_reply.started": "2022-06-16T18:42:54.534861Z",
          "shell.execute_reply": "2022-06-16T18:42:54.551035Z"
        },
        "trusted": true,
        "id": "K213GhHpULBp",
        "outputId": "6da4748f-58c8-4743-ed98-c4990a15b71c"
      },
      "execution_count": null,
      "outputs": [
        {
          "name": "stdout",
          "text": "╒═══════════╤══════════╤═══════════════════╤════════════════╤══════════╕\n│           │   TF-IDF │   TF-IDF 2-grams  │   bag of words │    vader │\n╞═══════════╪══════════╪═══════════════════╪════════════════╪══════════╡\n│ precision │ 0.793173 │          0.791629 │       0.778385 │ 0.78394  │\n├───────────┼──────────┼───────────────────┼────────────────┼──────────┤\n│ recall    │ 0.908436 │          0.911351 │       0.903978 │ 0.776749 │\n├───────────┼──────────┼───────────────────┼────────────────┼──────────┤\n│ F1-score  │ 0.846901 │          0.847282 │       0.836493 │ 0.780328 │\n├───────────┼──────────┼───────────────────┼────────────────┼──────────┤\n│ accuracy  │ 0.834928 │          0.834885 │       0.822389 │ 0.780205 │\n╘═══════════╧══════════╧═══════════════════╧════════════════╧══════════╛\n",
          "output_type": "stream"
        }
      ]
    },
    {
      "cell_type": "code",
      "source": [
        "plot_results(data2[1:])"
      ],
      "metadata": {
        "execution": {
          "iopub.status.busy": "2022-06-16T18:42:54.553439Z",
          "iopub.execute_input": "2022-06-16T18:42:54.554260Z",
          "iopub.status.idle": "2022-06-16T18:42:54.773421Z",
          "shell.execute_reply.started": "2022-06-16T18:42:54.554219Z",
          "shell.execute_reply": "2022-06-16T18:42:54.772605Z"
        },
        "trusted": true,
        "id": "Rh5YSbyQULBp",
        "outputId": "411fa677-7f95-498a-d857-a6d0efc087b2"
      },
      "execution_count": null,
      "outputs": [
        {
          "output_type": "display_data",
          "data": {
            "text/plain": "<Figure size 432x288 with 1 Axes>",
            "image/png": "[encoded data removed]"
          },
          "metadata": {
            "needs_background": "light"
          }
        }
      ]
    },
    {
      "cell_type": "markdown",
      "source": [
        "## Using Ensemble Learning "
      ],
      "metadata": {
        "id": "q69UFh9iULBp"
      }
    },
    {
      "cell_type": "code",
      "source": [
        "from sklearn.ensemble import RandomForestClassifier\n",
        "from sklearn.ensemble import VotingClassifier\n",
        "from sklearn.linear_model import LogisticRegression,  SGDClassifier\n",
        "from sklearn.svm import SVC"
      ],
      "metadata": {
        "execution": {
          "iopub.status.busy": "2022-06-16T18:42:54.774558Z",
          "iopub.execute_input": "2022-06-16T18:42:54.775023Z",
          "iopub.status.idle": "2022-06-16T18:42:54.779126Z",
          "shell.execute_reply.started": "2022-06-16T18:42:54.774991Z",
          "shell.execute_reply": "2022-06-16T18:42:54.778412Z"
        },
        "trusted": true,
        "id": "zgSP6cW-ULBp"
      },
      "execution_count": null,
      "outputs": []
    },
    {
      "cell_type": "code",
      "source": [
        "log_clf = LogisticRegression(solver=\"lbfgs\")\n",
        "rnd_clf = RandomForestClassifier(n_estimators=100)\n",
        "svm_clf = SVC(gamma=\"scale\", probability=True)\n",
        "sgd = SGDClassifier(alpha=.0001, max_iter=50, loss='log',\n",
        "                                       penalty=\"elasticnet\", n_jobs=-1)\n",
        "\n",
        "voting_clf = VotingClassifier(\n",
        "estimators=[('lr', log_clf), ('rf', rnd_clf), ('svc', svm_clf)],\n",
        "voting='soft')\n",
        "\n"
      ],
      "metadata": {
        "execution": {
          "iopub.status.busy": "2022-06-16T18:42:54.780355Z",
          "iopub.execute_input": "2022-06-16T18:42:54.780727Z",
          "iopub.status.idle": "2022-06-16T18:42:54.792516Z",
          "shell.execute_reply.started": "2022-06-16T18:42:54.780695Z",
          "shell.execute_reply": "2022-06-16T18:42:54.791595Z"
        },
        "trusted": true,
        "id": "A43ZiMMlULBp"
      },
      "execution_count": null,
      "outputs": []
    },
    {
      "cell_type": "code",
      "source": [
        "voting_clf.fit(X_selection, y_train)\n",
        "y_predict_tfidf_4 = voting_clf.predict(X_test_selection)\n",
        "\n",
        "voting_clf.fit(X_selection_n12, y_train)\n",
        "y_predict_tfidf_n12_4 = voting_clf.predict(X_test_selection_n12)\n",
        "\n",
        "#voting_clf.fit(X_selection_bow, y_train)\n",
        "#y_predict_bow_4 = voting_clf.predict(X_test_selection_bow)\n",
        "\n",
        "#voting_clf.fit(X_vader_train, y_train)\n",
        "#y_predict_vader_4 = voting_clf.predict(X_vader_test)"
      ],
      "metadata": {
        "execution": {
          "iopub.status.busy": "2022-06-16T18:42:54.794017Z",
          "iopub.execute_input": "2022-06-16T18:42:54.794376Z",
          "iopub.status.idle": "2022-06-16T23:52:14.634117Z",
          "shell.execute_reply.started": "2022-06-16T18:42:54.794345Z",
          "shell.execute_reply": "2022-06-16T23:52:14.632402Z"
        },
        "trusted": true,
        "id": "V0ChnUHgULBp"
      },
      "execution_count": null,
      "outputs": []
    },
    {
      "cell_type": "code",
      "source": [
        "en_tfidf_results=metrics.precision_recall_fscore_support(y_test, y_predict_tfidf_4)\n",
        "en_tfidf_n12_results=metrics.precision_recall_fscore_support(y_test, y_predict_tfidf_n12_4)\n",
        "#en_bow_results=metrics.precision_recall_fscore_support(y_test, y_predict_bow_4)\n",
        "#en_vader_results=metrics.precision_recall_fscore_support(y_test, y_predict_vader_4)"
      ],
      "metadata": {
        "execution": {
          "iopub.status.busy": "2022-06-16T23:52:14.637002Z",
          "iopub.execute_input": "2022-06-16T23:52:14.637372Z",
          "iopub.status.idle": "2022-06-16T23:52:15.960820Z",
          "shell.execute_reply.started": "2022-06-16T23:52:14.637337Z",
          "shell.execute_reply": "2022-06-16T23:52:15.959904Z"
        },
        "trusted": true,
        "id": "4N2NJotoULBp"
      },
      "execution_count": null,
      "outputs": []
    },
    {
      "cell_type": "code",
      "source": [
        "en_tfidf_acc= metrics.accuracy_score(y_test, y_predict_tfidf_4)\n",
        "en_tfidf_n12_acc=accuracy_score(y_test, y_predict_tfidf_n12_4)\n",
        "#en_bow_acc= accuracy_score(y_test, y_predict_bow_4)\n",
        "#en_vader_acc=accuracy_score(y_test, y_predict_vader_4)"
      ],
      "metadata": {
        "execution": {
          "iopub.status.busy": "2022-06-16T23:52:15.965334Z",
          "iopub.execute_input": "2022-06-16T23:52:15.965703Z",
          "iopub.status.idle": "2022-06-16T23:52:16.296515Z",
          "shell.execute_reply.started": "2022-06-16T23:52:15.965670Z",
          "shell.execute_reply": "2022-06-16T23:52:16.295617Z"
        },
        "trusted": true,
        "id": "-3NfM9hrULBq"
      },
      "execution_count": null,
      "outputs": []
    },
    {
      "cell_type": "code",
      "source": [
        "data3= [['TF-IDF','TF-IDF 2-grams ','bag of words','vader'],\n",
        "        ['precision',en_tfidf_results[0][0],en_tfidf_n12_results[0][0],'0','0'],\n",
        "         ['recall',en_tfidf_results[1][0],en_tfidf_n12_results[1][0],'0','0'],\n",
        "         ['F1-score',en_tfidf_results[2][0],en_tfidf_n12_results[2][0],'0','0'],\n",
        "       ['accuracy',en_tfidf_acc,en_tfidf_n12_acc,'0' ,'0']]"
      ],
      "metadata": {
        "execution": {
          "iopub.status.busy": "2022-06-16T23:52:16.298004Z",
          "iopub.execute_input": "2022-06-16T23:52:16.298328Z",
          "iopub.status.idle": "2022-06-16T23:52:16.305096Z",
          "shell.execute_reply.started": "2022-06-16T23:52:16.298295Z",
          "shell.execute_reply": "2022-06-16T23:52:16.304356Z"
        },
        "trusted": true,
        "id": "IKU2dXBuULBq"
      },
      "execution_count": null,
      "outputs": []
    },
    {
      "cell_type": "code",
      "source": [
        "print(tabulate(data3,headers='firstrow',tablefmt='fancy_grid'))"
      ],
      "metadata": {
        "execution": {
          "iopub.status.busy": "2022-06-16T23:52:16.306035Z",
          "iopub.execute_input": "2022-06-16T23:52:16.306771Z",
          "iopub.status.idle": "2022-06-16T23:52:16.322925Z",
          "shell.execute_reply.started": "2022-06-16T23:52:16.306738Z",
          "shell.execute_reply": "2022-06-16T23:52:16.322205Z"
        },
        "trusted": true,
        "id": "2EfYVmnVULBq",
        "outputId": "23b72fda-5132-490e-d01d-716b887a6875"
      },
      "execution_count": null,
      "outputs": [
        {
          "name": "stdout",
          "text": "╒═══════════╤══════════╤═══════════════════╤════════════════╤══════════╕\n│           │   TF-IDF │   TF-IDF 2-grams  │   bag of words │    vader │\n╞═══════════╪══════════╪═══════════════════╪════════════════╪══════════╡\n│ precision │ 0.924796 │          0.925695 │       0.909421 │ 0.770631 │\n├───────────┼──────────┼───────────────────┼────────────────┼──────────┤\n│ recall    │ 0.940415 │          0.939901 │       0.943416 │ 0.780607 │\n├───────────┼──────────┼───────────────────┼────────────────┼──────────┤\n│ F1-score  │ 0.93254  │          0.932743 │       0.926107 │ 0.775587 │\n├───────────┼──────────┼───────────────────┼────────────────┼──────────┤\n│ accuracy  │ 0.931618 │          0.931877 │       0.924336 │ 0.772966 │\n╘═══════════╧══════════╧═══════════════════╧════════════════╧══════════╛\n",
          "output_type": "stream"
        }
      ]
    },
    {
      "cell_type": "code",
      "source": [
        "plot_results(data3[1:])"
      ],
      "metadata": {
        "execution": {
          "iopub.status.busy": "2022-06-16T23:52:16.323967Z",
          "iopub.execute_input": "2022-06-16T23:52:16.324759Z",
          "iopub.status.idle": "2022-06-16T23:52:16.553277Z",
          "shell.execute_reply.started": "2022-06-16T23:52:16.324722Z",
          "shell.execute_reply": "2022-06-16T23:52:16.552184Z"
        },
        "trusted": true,
        "id": "m_IL7ZFRULBq",
        "outputId": "66d22740-02cf-4790-ebbe-fe3181a1d8d4"
      },
      "execution_count": null,
      "outputs": [
        {
          "output_type": "display_data",
          "data": {
            "text/plain": "<Figure size 432x288 with 1 Axes>",
            "image/png": "[encoded data removed]"
          },
          "metadata": {
            "needs_background": "light"
          }
        }
      ]
    },
    {
      "cell_type": "markdown",
      "source": [
        "## Using Bagging Method"
      ],
      "metadata": {
        "id": "T1cOmH3YULBq"
      }
    },
    {
      "cell_type": "code",
      "source": [
        "from sklearn.ensemble import BaggingClassifier\n",
        "from sklearn.tree import DecisionTreeClassifier\n",
        "bag_clf = BaggingClassifier(\n",
        "DecisionTreeClassifier(), n_estimators=500,\n",
        "max_samples=100, bootstrap=True, n_jobs=-1)\n",
        "\n",
        "bag_clf.fit(X_selection, y_train)\n",
        "y_pred_5 = bag_clf.predict(X_test_selection)\n",
        "\n",
        "bag_clf.fit(X_selection_n12, y_train)\n",
        "y_pred_n12_5 = bag_clf.predict(X_test_selection_n12)\n",
        "\n",
        "bag_clf.fit(X_selection_bow, y_train)\n",
        "y_pred_bow_5 = bag_clf.predict(X_test_selection_bow)\n",
        "\n",
        "bag_clf.fit(X_vader_train, y_train)\n",
        "y_pred_vader_5 = bag_clf.predict(X_vader_test)"
      ],
      "metadata": {
        "execution": {
          "iopub.status.busy": "2022-06-16T23:52:16.554768Z",
          "iopub.execute_input": "2022-06-16T23:52:16.555227Z",
          "iopub.status.idle": "2022-06-16T23:53:35.445031Z",
          "shell.execute_reply.started": "2022-06-16T23:52:16.555183Z",
          "shell.execute_reply": "2022-06-16T23:53:35.443800Z"
        },
        "trusted": true,
        "id": "mQu1j8I3ULBq"
      },
      "execution_count": null,
      "outputs": []
    },
    {
      "cell_type": "code",
      "source": [
        "bag_tfidf_results=metrics.precision_recall_fscore_support(y_test, y_pred_5)\n",
        "bag_tfidf_n12_results=metrics.precision_recall_fscore_support(y_test, y_pred_n12_5)\n",
        "bag_bow_results=metrics.precision_recall_fscore_support(y_test, y_pred_bow_5)\n",
        "bag_vader_results=metrics.precision_recall_fscore_support(y_test, y_pred_vader_5)"
      ],
      "metadata": {
        "execution": {
          "iopub.status.busy": "2022-06-16T23:53:35.446616Z",
          "iopub.execute_input": "2022-06-16T23:53:35.447007Z",
          "iopub.status.idle": "2022-06-16T23:53:36.771961Z",
          "shell.execute_reply.started": "2022-06-16T23:53:35.446968Z",
          "shell.execute_reply": "2022-06-16T23:53:36.771069Z"
        },
        "trusted": true,
        "id": "ZxSsXnRWULBq"
      },
      "execution_count": null,
      "outputs": []
    },
    {
      "cell_type": "code",
      "source": [
        "bag_tfidf_acc= metrics.accuracy_score(y_test, y_pred_5)\n",
        "bag_tfidf_n12_acc=accuracy_score(y_test, y_pred_n12_5)\n",
        "bag_bow_acc= accuracy_score(y_test, y_pred_bow_5)\n",
        "bag_vader_acc=accuracy_score(y_test, y_pred_vader_5)"
      ],
      "metadata": {
        "execution": {
          "iopub.status.busy": "2022-06-16T23:53:36.773377Z",
          "iopub.execute_input": "2022-06-16T23:53:36.773714Z",
          "iopub.status.idle": "2022-06-16T23:53:37.103778Z",
          "shell.execute_reply.started": "2022-06-16T23:53:36.773684Z",
          "shell.execute_reply": "2022-06-16T23:53:37.102868Z"
        },
        "trusted": true,
        "id": "7TSLGY91ULBq"
      },
      "execution_count": null,
      "outputs": []
    },
    {
      "cell_type": "code",
      "source": [
        "data4= [['TF-IDF','TF-IDF 2-grams ','bag of words','vader'],\n",
        "        ['precision',bag_tfidf_results[0][0],bag_tfidf_n12_results[0][0],bag_bow_results[0][0],\n",
        "          bag_vader_results[0][0]],\n",
        "         ['recall',bag_tfidf_results[1][0],bag_tfidf_n12_results[1][0],bag_bow_results[1][0],\n",
        "          bag_vader_results[1][0]],\n",
        "         ['F1-score',bag_tfidf_results[2][0],bag_tfidf_n12_results[2][0],bag_bow_results[2][0],\n",
        "          bag_vader_results[2][0]],\n",
        "        ['accuracy',bag_tfidf_acc,bag_tfidf_n12_acc, bag_bow_acc,\n",
        "          bag_vader_acc]]"
      ],
      "metadata": {
        "execution": {
          "iopub.status.busy": "2022-06-16T23:53:37.105343Z",
          "iopub.execute_input": "2022-06-16T23:53:37.106060Z",
          "iopub.status.idle": "2022-06-16T23:53:37.115004Z",
          "shell.execute_reply.started": "2022-06-16T23:53:37.106002Z",
          "shell.execute_reply": "2022-06-16T23:53:37.114055Z"
        },
        "trusted": true,
        "id": "Sm9A6PnKULBq"
      },
      "execution_count": null,
      "outputs": []
    },
    {
      "cell_type": "code",
      "source": [
        "print(tabulate(data4,headers='firstrow',tablefmt='fancy_grid'))"
      ],
      "metadata": {
        "execution": {
          "iopub.status.busy": "2022-06-16T23:53:37.116344Z",
          "iopub.execute_input": "2022-06-16T23:53:37.117188Z",
          "iopub.status.idle": "2022-06-16T23:53:37.129959Z",
          "shell.execute_reply.started": "2022-06-16T23:53:37.117129Z",
          "shell.execute_reply": "2022-06-16T23:53:37.128710Z"
        },
        "trusted": true,
        "id": "XPQ3gpbXULBq",
        "outputId": "f23fea7f-c819-46d8-bd94-e8cc859b7fc7"
      },
      "execution_count": null,
      "outputs": [
        {
          "name": "stdout",
          "text": "╒═══════════╤══════════╤═══════════════════╤════════════════╤══════════╕\n│           │   TF-IDF │   TF-IDF 2-grams  │   bag of words │    vader │\n╞═══════════╪══════════╪═══════════════════╪════════════════╪══════════╡\n│ precision │ 0.799801 │          0.800015 │       0.805179 │ 0.780667 │\n├───────────┼──────────┼───────────────────┼────────────────┼──────────┤\n│ recall    │ 0.894633 │          0.887603 │       0.876972 │ 0.767147 │\n├───────────┼──────────┼───────────────────┼────────────────┼──────────┤\n│ F1-score  │ 0.844563 │          0.841536 │       0.839544 │ 0.773848 │\n├───────────┼──────────┼───────────────────┼────────────────┼──────────┤\n│ accuracy  │ 0.834497 │          0.831998 │       0.831524 │ 0.774647 │\n╘═══════════╧══════════╧═══════════════════╧════════════════╧══════════╛\n",
          "output_type": "stream"
        }
      ]
    },
    {
      "cell_type": "code",
      "source": [
        "plot_results(data4[1:])"
      ],
      "metadata": {
        "execution": {
          "iopub.status.busy": "2022-06-16T23:53:37.131151Z",
          "iopub.execute_input": "2022-06-16T23:53:37.132013Z",
          "iopub.status.idle": "2022-06-16T23:53:37.358795Z",
          "shell.execute_reply.started": "2022-06-16T23:53:37.131978Z",
          "shell.execute_reply": "2022-06-16T23:53:37.357713Z"
        },
        "trusted": true,
        "id": "cHsgncv8ULBq",
        "outputId": "dbff1698-62ed-42c4-b24a-53de92692afc"
      },
      "execution_count": null,
      "outputs": [
        {
          "output_type": "display_data",
          "data": {
            "text/plain": "<Figure size 432x288 with 1 Axes>",
            "image/png": "[encoded data removed]"
          },
          "metadata": {
            "needs_background": "light"
          }
        }
      ]
    }
  ]
}